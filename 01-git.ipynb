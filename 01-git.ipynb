{
 "cells": [
  {
   "cell_type": "markdown",
   "id": "d7cab44d",
   "metadata": {
    "slideshow": {
     "slide_type": "slide"
    },
    "tags": []
   },
   "source": [
    "# Git and GitHub"
   ]
  },
  {
   "cell_type": "markdown",
   "id": "e90c355f",
   "metadata": {
    "jp-MarkdownHeadingCollapsed": true,
    "slideshow": {
     "slide_type": "slide"
    },
    "tags": []
   },
   "source": [
    "## Lesson Goals\n",
    "- Understand the purpose of version control systems\n",
    "- Create a GitHub account\n",
    "- Upload your first code to GitHub"
   ]
  },
  {
   "cell_type": "markdown",
   "id": "7153a041",
   "metadata": {
    "tags": []
   },
   "source": [
    "## Prequisites\n",
    "- None"
   ]
  },
  {
   "cell_type": "markdown",
   "id": "41334dfa-260a-435a-9792-3f1dae06e8b2",
   "metadata": {
    "slideshow": {
     "slide_type": "slide"
    },
    "tags": []
   },
   "source": [
    "## Code Management\n",
    "\n",
    "Some new considerations come up as we build larger projects that eventually go into production..."
   ]
  },
  {
   "cell_type": "markdown",
   "id": "b722b315-8d4c-4011-a79b-c7e01d769521",
   "metadata": {
    "slideshow": {
     "slide_type": "fragment"
    },
    "tags": []
   },
   "source": [
    "- What happens if our computer breaks or is lost? Will we lose all of our code?"
   ]
  },
  {
   "cell_type": "markdown",
   "id": "c7d91700-738f-4793-ba30-13f41b42374f",
   "metadata": {
    "slideshow": {
     "slide_type": "fragment"
    },
    "tags": []
   },
   "source": [
    "- What if we make changes to our code that we later want to roll back? For example, trying a different method of cleaning our data and eventually discovering that it yields worse results."
   ]
  },
  {
   "cell_type": "markdown",
   "id": "b0a84074-9731-430f-a9bf-a05dee2b8856",
   "metadata": {
    "slideshow": {
     "slide_type": "fragment"
    },
    "tags": []
   },
   "source": [
    "- How do multiple people work on the same project without sending files back and forth, and stepping on each others' toes?"
   ]
  },
  {
   "cell_type": "markdown",
   "id": "93d87b23-5e79-4231-9b3b-a09b468cc162",
   "metadata": {},
   "source": [
    "<div class=\"admonition note alert alert-info\">\n",
    "    <b><p class=\"first admonition-title\" style=\"font-weight: bold;\">Discussion</p></b>\n",
    "    Has anyone faced problems like these before?\n",
    "</div>"
   ]
  },
  {
   "cell_type": "markdown",
   "id": "47912ee1-c259-4ef5-ad74-c8b012cc0e40",
   "metadata": {
    "slideshow": {
     "slide_type": "slide"
    },
    "tags": []
   },
   "source": [
    "## Version Control Systems (VCS)\n",
    "The most common industry solution is a **Version Control System**, which:\n",
    "- Provides a backup of your code on a separate computer\n",
    "- Tracks every change made to the code, allowing you to see when certain code was updated and to roll back to an earlier state if necessary\n",
    "- Helps with collaboration by letting contributors work on different things in parallel and then \"merge\" their changes together later"
   ]
  },
  {
   "cell_type": "markdown",
   "id": "a7c89c14-4ac1-436e-b10a-78a854b7a31d",
   "metadata": {
    "slideshow": {
     "slide_type": "fragment"
    },
    "tags": []
   },
   "source": [
    "Typically, an organization will have one central VCS where all projects are managed."
   ]
  },
  {
   "cell_type": "markdown",
   "id": "a3882acc-0545-4f7e-9c20-65b6b8901323",
   "metadata": {
    "slideshow": {
     "slide_type": "slide"
    },
    "tags": []
   },
   "source": [
    "## Common VCS Options"
   ]
  },
  {
   "cell_type": "markdown",
   "id": "c8f0d82d-15ac-4bc5-99c7-7e67097605e4",
   "metadata": {},
   "source": [
    "Far and away the most popular VCS tool is Git, which is notable for its scalability and performance.\n",
    "\n",
    "Unfortunately, it's often challenging for beginners; its interface can be overwhelming."
   ]
  },
  {
   "cell_type": "markdown",
   "id": "e51f409e-428e-4fd1-9cf7-c87fcc93f292",
   "metadata": {
    "slideshow": {
     "slide_type": "fragment"
    },
    "tags": []
   },
   "source": [
    "Other VCSes exist, and were more common until Git became dominant around 2010.\n",
    "You may have heard of these or even used them:\n",
    "- Mercurial\n",
    "- Subversion"
   ]
  },
  {
   "cell_type": "markdown",
   "id": "793ce6ee-26b8-475d-b63f-310c6deebd0f",
   "metadata": {
    "slideshow": {
     "slide_type": "slide"
    },
    "tags": []
   },
   "source": [
    "## Git and GitHub\n",
    "Git is generally used in tandem with a website where your code can be kept, viewed, and managed.\n",
    "There are several, but the most commonly used site is **GitHub**."
   ]
  },
  {
   "cell_type": "markdown",
   "id": "de686595-3b17-476f-9057-2194a13035d2",
   "metadata": {
    "slideshow": {
     "slide_type": "fragment"
    },
    "tags": []
   },
   "source": [
    "Not only does GitHub provide a good interface for viewing code, it also features:\n",
    "- Project management tools\n",
    "- Collaboration tools\n",
    "\n",
    "Both of which are tightly integrated with your code -- very convenient for developer and data science teams.\n",
    "\n",
    "GitHub offers most of its tools for free and has become the home of most popular open source projects (such as Python itself and the pandas library)."
   ]
  },
  {
   "cell_type": "markdown",
   "id": "28dc6026-53ab-4be9-9b5e-f0d7d17cb853",
   "metadata": {
    "slideshow": {
     "slide_type": "fragment"
    },
    "tags": []
   },
   "source": [
    "<div class=\"admonition note alert alert-info\">\n",
    "    <b><p class=\"first admonition-title\" style=\"font-weight: bold;\">Note</p></b>\n",
    "    There are competing services to GitHub, such as <em>GitLab</em> and <em>Bitbucket</em>, but GitHub is by far the most popular tool -- to the point that employers sometimes ask for your GitHub profile to see your portfolio.\n",
    "</div>"
   ]
  },
  {
   "cell_type": "markdown",
   "id": "77e34d67-8c6a-455c-95c4-8bce78491f13",
   "metadata": {
    "slideshow": {
     "slide_type": "slide"
    },
    "tags": []
   },
   "source": [
    "## Creating a GitHub Account\n",
    "\n",
    "*(If you already have a GitHub account, you may skip these steps. Just log into your account so we can push code to it later.)*"
   ]
  },
  {
   "cell_type": "markdown",
   "id": "2906c519-0e9c-45ef-965a-ce40a5c7dc62",
   "metadata": {
    "slideshow": {
     "slide_type": "fragment"
    },
    "tags": []
   },
   "source": [
    "1. Go to `github.com` and find the **Sign Up** button.\n",
    "  - When prompted, enter your email address, a new password, and a username\n",
    "  - This username will be your identifier on GitHub, so make sure you'd be comfortable sharing it with an employer or colleague\n",
    "2. You may then need to solve a Captcha-like puzzle and verify your email address. Do so.\n",
    "\n",
    "3. Once the account is created, you may be asked whether to create a new project, or \"repository\". We'll do that, but not yet!"
   ]
  },
  {
   "cell_type": "markdown",
   "id": "74214edc-b5bd-46a5-87e3-11267a1b1905",
   "metadata": {
    "slideshow": {
     "slide_type": "slide"
    },
    "tags": []
   },
   "source": [
    "## GitHub Tour\n",
    "\n",
    "*Demo of Profile and Repos*"
   ]
  },
  {
   "cell_type": "markdown",
   "id": "5d521df9-a6c3-4d47-b465-97603be17e58",
   "metadata": {
    "slideshow": {
     "slide_type": "slide"
    },
    "tags": []
   },
   "source": [
    "## Repositories\n",
    "\n",
    "- As we saw, repositories are just projects.\n",
    "- For short, we usually call them **repos**.\n",
    "- Generally, it's good to have a unique repository in GitHub for every project you work on.\n",
    "- Let's create a repo for the code we write in this workshop!"
   ]
  },
  {
   "cell_type": "markdown",
   "id": "f69e35e7-3c58-4c0a-8c98-7eb53ffaa8f9",
   "metadata": {
    "jp-MarkdownHeadingCollapsed": true,
    "slideshow": {
     "slide_type": "slide"
    },
    "tags": []
   },
   "source": [
    "## Creating a Repo\n",
    "<table><tr>\n",
    "<td><ol style=\"font-size: 1.3em;\">\n",
    "    <li>Go back to GitHub.</li><br>\n",
    "\n",
    "  <li>If today is the first time you've used GitHub, the site may immediately prompt you to create a repo. If so, click that.\n",
    "   <br><br>- If not, look in the left sidebar for a \"New\" button and click that -- it should take you to a repo creation page.</li><br>\n",
    "\n",
    "<li>In the <em>Name</em> field enter \"advanced-python-datasci\", and in the <em>Description</em> enter \"Working through the Advanced Python for Data Science workshop\".</li><br>\n",
    "\n",
    "<li>There are three boxes below; check the first two. Those should be \"Add a readme\" and \"Add a gitignore\".\n",
    "  <br><br>- The gitignore checkbox should show a dropdown below it, \"gitignore template\". Look through that list and select <em>Python</em>.</li><br>\n",
    "    \n",
    "  <li>Then press the \"Create Repository\" button!</li>\n",
    "</ol></td>\n",
    "<td style=\"width: 60%\">\n",
    "  <img src=\"images/create-repo.png\" alt=\"Create a Repo\"/>\n",
    "</td>\n",
    "</tr></table>"
   ]
  },
  {
   "cell_type": "markdown",
   "id": "b13979f5-54e6-4521-9aa2-78d26d40a64a",
   "metadata": {
    "slideshow": {
     "slide_type": "slide"
    },
    "tags": []
   },
   "source": [
    "## GitHub Desktop\n",
    "\n",
    "<table><tr>\n",
    "<td>\n",
    "<ol style=\"font-size: 1.3em;\">\n",
    "<li>Next, we'll download a piece of software from GitHub that handles syncing our code with our repository: <strong>GitHub Desktop</strong> <br><br> <em>Note: if you're already comfortable using Git from the command line, you can skip this part; just clone the repo we've created as we'll be using it for the rest of the workshop.</em>\n",
    "</li>\n",
    "<br><br> \n",
    "<li>Go to <a href=\"https://desktop.github.com\">https://desktop.github.com</a> and download the application.</li>\n",
    "<br>\n",
    "<li>Once it's downloaded and installed, open it.</li>\n",
    "</ol>\n",
    "</td>\n",
    "<td>\n",
    "  <img src=\"images/gh-desktop.png\" alt=\"Download GitHub Desktop\"/>\n",
    "</td>\n",
    "</tr></table>\n",
    "    "
   ]
  },
  {
   "cell_type": "markdown",
   "id": "ed7672b4-5020-46e8-a442-14b40351d5a9",
   "metadata": {
    "slideshow": {
     "slide_type": "slide"
    },
    "tags": []
   },
   "source": [
    "## Connecting Our Repo to GH Desktop\n",
    "\n",
    "The last bit of direction-following!"
   ]
  },
  {
   "cell_type": "markdown",
   "id": "f0b0cb29-fab1-4593-b49c-165471b92bda",
   "metadata": {
    "slideshow": {
     "slide_type": "slide"
    },
    "tags": []
   },
   "source": [
    "<table><tr>\n",
    "<td>\n",
    "<ol style=\"font-size: 1.3em;\">\n",
    "  <li>In GitHub Desktop, you should see an option like <em>Clone a Repository from the Internet...</em>. Click this.</li>\n",
    "  <br>\n",
    "  <li>At this point, the application should prompt you to sign into GitHub. Follow its instructions to do so, which may involve it redirecting you to the browser.</li>\n",
    "  <br>\n",
    "  <li>Once done signing in, you may have to press <em>Clone a Repository from the Internet...</em> again.</li>\n",
    "  <br>\n",
    "  <li>Choose the <em>advanced-python-datasci</em> project we just created.</li>\n",
    "  <br>\n",
    "  <li>Optionally, you may change the <em>Local Path</em> -- this is where the repository will be saved on your computer. You'll need to be able to open the code here in JupyterLab, so if you're more comfortable keeping your code somewhere else, change this to a different location on your computer.</li>\n",
    "  <br>\n",
    "  <li>Then press <em>Clone</em> to pull down the repository we created.</li>\n",
    "</ol>\n",
    "</td>\n",
    "<td style=\"width: 55%;\">\n",
    "  <img src=\"images/clone-repo.png\" alt=\"Clone a Repository\"/>\n",
    "</tr></table>"
   ]
  },
  {
   "cell_type": "markdown",
   "id": "6cc456f0-bb22-4d9b-b3e3-9b215f2f5df0",
   "metadata": {
    "slideshow": {
     "slide_type": "slide"
    },
    "tags": []
   },
   "source": [
    "Congrats! You've set up your first GitHub repository, and now you're ready to work in it."
   ]
  }
 ],
 "metadata": {
  "kernelspec": {
   "display_name": "uc-python",
   "language": "python",
   "name": "uc-python"
  },
  "language_info": {
   "codemirror_mode": {
    "name": "ipython",
    "version": 3
   },
   "file_extension": ".py",
   "mimetype": "text/x-python",
   "name": "python",
   "nbconvert_exporter": "python",
   "pygments_lexer": "ipython3",
   "version": "3.9.1"
  }
 },
 "nbformat": 4,
 "nbformat_minor": 5
}
